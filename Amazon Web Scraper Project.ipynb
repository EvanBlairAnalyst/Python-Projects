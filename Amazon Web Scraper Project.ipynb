{
 "cells": [
  {
   "cell_type": "code",
   "execution_count": 16,
   "id": "c952dd82-fb6a-48d5-a331-42c9cba941aa",
   "metadata": {},
   "outputs": [],
   "source": [
    "# Import libraries\n",
    "\n",
    "from bs4 import BeautifulSoup\n",
    "import requests\n",
    "import smtplib\n",
    "import time\n",
    "import datetime\n"
   ]
  },
  {
   "cell_type": "code",
   "execution_count": 83,
   "id": "0794f28c-807b-46e1-a178-51cfcf513939",
   "metadata": {},
   "outputs": [
    {
     "ename": "AttributeError",
     "evalue": "'NoneType' object has no attribute 'get_text'",
     "output_type": "error",
     "traceback": [
      "\u001b[1;31m---------------------------------------------------------------------------\u001b[0m",
      "\u001b[1;31mAttributeError\u001b[0m                            Traceback (most recent call last)",
      "Cell \u001b[1;32mIn[83], line 20\u001b[0m\n\u001b[0;32m     14\u001b[0m soup1 \u001b[38;5;241m=\u001b[39mBeautifulSoup(page\u001b[38;5;241m.\u001b[39mcontent, \u001b[38;5;124m\"\u001b[39m\u001b[38;5;124mlxml\u001b[39m\u001b[38;5;124m\"\u001b[39m)\n\u001b[0;32m     16\u001b[0m soup2 \u001b[38;5;241m=\u001b[39mBeautifulSoup(soup1\u001b[38;5;241m.\u001b[39mprettify(), \u001b[38;5;124m\"\u001b[39m\u001b[38;5;124mlxml\u001b[39m\u001b[38;5;124m\"\u001b[39m)\n\u001b[1;32m---> 20\u001b[0m title \u001b[38;5;241m=\u001b[39m soup2\u001b[38;5;241m.\u001b[39mfind(\u001b[38;5;28mid\u001b[39m\u001b[38;5;241m=\u001b[39m\u001b[38;5;124m'\u001b[39m\u001b[38;5;124mproductTitle\u001b[39m\u001b[38;5;124m'\u001b[39m)\u001b[38;5;241m.\u001b[39mget_text(strip\u001b[38;5;241m=\u001b[39m\u001b[38;5;28;01mTrue\u001b[39;00m)\n\u001b[0;32m     22\u001b[0m price_symbol \u001b[38;5;241m=\u001b[39m soup2\u001b[38;5;241m.\u001b[39mfind(class_\u001b[38;5;241m=\u001b[39m\u001b[38;5;124m'\u001b[39m\u001b[38;5;124ma-price-symbol\u001b[39m\u001b[38;5;124m'\u001b[39m)\u001b[38;5;241m.\u001b[39mget_text(strip\u001b[38;5;241m=\u001b[39m\u001b[38;5;28;01mTrue\u001b[39;00m)\n\u001b[0;32m     23\u001b[0m price_whole \u001b[38;5;241m=\u001b[39m soup2\u001b[38;5;241m.\u001b[39mfind(class_\u001b[38;5;241m=\u001b[39m\u001b[38;5;124m'\u001b[39m\u001b[38;5;124ma-price-whole\u001b[39m\u001b[38;5;124m'\u001b[39m)\u001b[38;5;241m.\u001b[39mget_text(strip\u001b[38;5;241m=\u001b[39m\u001b[38;5;28;01mTrue\u001b[39;00m)\n",
      "\u001b[1;31mAttributeError\u001b[0m: 'NoneType' object has no attribute 'get_text'"
     ]
    }
   ],
   "source": [
    "# Connect to Website\n",
    "\n",
    "\n",
    "URL= 'https://www.amazon.com/Python-Code-Shirt-Programming-Computer/dp/B07BRN7HDS/ref=sr_1_2?crid=2EMV198AYIU67&dib=eyJ2IjoiMSJ9.xdYNlwEZGJYAh86sVNUpOu57BIkQUm0W0dqIc6pKzV_n65mYmNxc_Yvea2Xh8B6xhdi_NRwnapcpjXTLCvTmD7bjZHTr05SDQ6udrh5V7RfeRMJDs9wnLUOVRk6MSDbOwqLavGiAWk3f0FPhl17mifeb-1VJBT6bGTFq-CwXOsnw3qjMaxYFanpxh1ygdlxBphfom_QJVwRiOYLEReic4FQKAxDNHpPdaQdKE4k0Q0BzqZY32_1VAngtr11E68ZsqhRTwnp2DIBYWRBjuqDyRXs0D-K9DJlN3K-S1ddbkQM.6Lta8TOjdOrdbyK-r6WmKAFVEgidn78jhEYRuCbDgFs&dib_tag=se&keywords=funny+python+shirt&qid=1717632966&sprefix=funny+python+shirt%2Caps%2C158&sr=8-2'\n",
    "\n",
    "#Grab headers from https://httpbin.org/get\n",
    "\n",
    "#headers = {\"User-Agent\": \"Mozilla/5.0 (Windows NT 10.0; Win64; x64) AppleWebKit/537.36 (KHTML, like Gecko) Chrome/125.0.0.0 Safari/537.36 Edg/125.0.0.0\"}\n",
    "\n",
    "# Grabbing the title and price from URL\n",
    "\n",
    "page =requests.get(URL, headers=headers)\n",
    "\n",
    "soup1 =BeautifulSoup(page.content, \"lxml\")\n",
    "\n",
    "soup2 =BeautifulSoup(soup1.prettify(), \"lxml\")\n",
    "\n",
    "\n",
    "\n",
    "title = soup2.find(id='productTitle').get_text(strip=True)\n",
    "\n",
    "price_symbol = soup2.find(class_='a-price-symbol').get_text(strip=True)\n",
    "price_whole = soup2.find(class_='a-price-whole').get_text(strip=True)\n",
    "price_fraction = soup2.find(class_='a-price-fraction').get_text(strip=True)\n",
    "price = f'{price_symbol}{price_whole}{price_fraction}'\n",
    "\n",
    "print(title)\n",
    "print(price)\n",
    "\n",
    "#price = None\n",
    "#def get_price():\n",
    "   # global price\n",
    "    #soup = BeautifulSoup(page.content,'lxml')\n",
    "    # print(soup.prettify())\n",
    "    #price = soup.select_one(\"product-title\").getText()\n",
    "    #print(price)\n",
    "\n",
    "#while price is None:\n",
    "    #try:\n",
    "        #get_price()\n",
    "    #except AttributeError:\n",
    "        #print(\"Error fetching price. Retrying...\")\n",
    "        #time.sleep(5)  # Adding a delay of 5 seconds before retrying\n",
    "#title =soup2.find(id='productTitle').get_text(strip=True)\n",
    "\n",
    "\n",
    "#title = soup2.find(id='product-title').get_text(strip=True)\n",
    "\n",
    "#price_symbol = soup2.find(class_='a-price-symbol').get_text(strip=True)\n",
    "#price_whole = soup2.find(class_='a-price-whole').get_text(strip=True)\n",
    "#price_fraction = soup2.find(class_='a-price-fraction').get_text(strip=True)\n",
    "\n",
    "#price = f'{price_symbol}{price_whole}{price_fraction}'\n",
    "\n",
    "\n",
    "#price_symbol = soup2.find(class_='a-price-symbol').get_text(strip=True)\n",
    "#price_whole = soup2.find(class_='a-price-whole').get_text(strip=True)\n",
    "#price_fraction = soup2.find(class_='a-price-fraction').get_text(strip=True)\n",
    "#price = f'{price_symbol}{price_whole}{price_fraction}'\n",
    "\n",
    "#print(title)\n",
    "#print(price)\n",
    "\n",
    "\n"
   ]
  },
  {
   "cell_type": "markdown",
   "id": "1779c79f-580c-43f7-8f3e-769ee576fe52",
   "metadata": {},
   "source": [
    "# Removing dollar sign from the price\n",
    "\n",
    "price = price.strip()[1:]\n",
    "title = title.strip()\n",
    "\n",
    "print(title)\n",
    "print(price)"
   ]
  },
  {
   "cell_type": "code",
   "execution_count": 313,
   "id": "20c60099-1240-4b64-83b0-ca2d568c83cc",
   "metadata": {},
   "outputs": [
    {
     "name": "stdout",
     "output_type": "stream",
     "text": [
      "2024-06-05\n"
     ]
    }
   ],
   "source": [
    "import datetime\n",
    "\n",
    "today = datetime.date.today()\n",
    "\n",
    "print(today)"
   ]
  },
  {
   "cell_type": "code",
   "execution_count": 315,
   "id": "b15eecc2-e0f2-4b16-b15e-611c78a6d6c6",
   "metadata": {},
   "outputs": [],
   "source": [
    "import csv\n",
    "\n",
    "header = ['Title', 'Price', 'Date']\n",
    "data = [title,price,today]\n",
    "\n",
    "with open('AmazonWebScraperDataset.csv', 'w', newline='', encoding = 'UTF8') as f:\n",
    "    writer = csv.writer(f)\n",
    "    writer.writerow(header)\n",
    "    writer.writerow(data)"
   ]
  },
  {
   "cell_type": "code",
   "execution_count": 317,
   "id": "8fe5499e-2859-49a7-93e2-9b38fb1eb0a0",
   "metadata": {},
   "outputs": [
    {
     "name": "stdout",
     "output_type": "stream",
     "text": [
      "                                               Title  Price        Date\n",
      "0  KIWI design Comfort Head Strap Accessories Com...  29.99  2024-06-05\n"
     ]
    }
   ],
   "source": [
    "import pandas as pd\n",
    "\n",
    "df = pd.read_csv(r'C:\\Users\\Evan Blair\\AmazonWebScraperDataset.csv')\n",
    "\n",
    "print(df)"
   ]
  },
  {
   "cell_type": "code",
   "execution_count": 319,
   "id": "17589e59-a42d-47ec-b2c4-316cd5e88288",
   "metadata": {},
   "outputs": [
    {
     "ename": "SyntaxError",
     "evalue": "invalid syntax (2146925299.py, line 4)",
     "output_type": "error",
     "traceback": [
      "\u001b[1;36m  Cell \u001b[1;32mIn[319], line 4\u001b[1;36m\u001b[0m\n\u001b[1;33m    writer = csv.writer(a+)\u001b[0m\n\u001b[1;37m                          ^\u001b[0m\n\u001b[1;31mSyntaxError\u001b[0m\u001b[1;31m:\u001b[0m invalid syntax\n"
     ]
    }
   ],
   "source": [
    "# Appending data to the csv\n",
    "\n",
    "with open('AmazonWebScraperDataset.csv', 'a+', newline='', encoding = 'UTF8') as f:\n",
    "    writer = csv.writer(a+)\n",
    "    writer.writerow(data)"
   ]
  },
  {
   "cell_type": "code",
   "execution_count": 321,
   "id": "b01787b4-d17a-4129-9c96-d470d7e97f37",
   "metadata": {},
   "outputs": [],
   "source": [
    "\n",
    "def check_price():\n",
    "    URL= 'https://www.amazon.com/Python-Code-Shirt-Programming-Computer/dp/B07BRN7HDS/ref=sr_1_2?crid=2EMV198AYIU67&dib=eyJ2IjoiMSJ9.xdYNlwEZGJYAh86sVNUpOu57BIkQUm0W0dqIc6pKzV_n65mYmNxc_Yvea2Xh8B6xhdi_NRwnapcpjXTLCvTmD7bjZHTr05SDQ6udrh5V7RfeRMJDs9wnLUOVRk6MSDbOwqLavGiAWk3f0FPhl17mifeb-1VJBT6bGTFq-CwXOsnw3qjMaxYFanpxh1ygdlxBphfom_QJVwRiOYLEReic4FQKAxDNHpPdaQdKE4k0Q0BzqZY32_1VAngtr11E68ZsqhRTwnp2DIBYWRBjuqDyRXs0D-K9DJlN3K-S1ddbkQM.6Lta8TOjdOrdbyK-r6WmKAFVEgidn78jhEYRuCbDgFs&dib_tag=se&keywords=funny+python+shirt&qid=1717632966&sprefix=funny+python+shirt%2Caps%2C158&sr=8-2'\n",
    "\n",
    "\n",
    "    headers = {\"User-Agent\": \"Mozilla/5.0 (Windows NT 10.0; Win64; x64) AppleWebKit/537.36 (KHTML, like Gecko) Chrome/125.0.0.0 Safari/537.36 Edg/125.0.0.0\"}\n",
    "\n",
    "\n",
    "    page =requests.get(URL, headers=headers)\n",
    "\n",
    "    soup1 =BeautifulSoup(page.content, \"lxml\")\n",
    "\n",
    "    soup2 =BeautifulSoup(soup1.prettify(), \"lxml\")\n",
    "\n",
    "    title =soup2.find(id='productTitle').get_text(strip=True)\n",
    "\n",
    "    price_symbol = soup2.find(class_='a-price-symbol').get_text(strip=True)\n",
    "    price_whole = soup2.find(class_='a-price-whole').get_text(strip=True)\n",
    "    price_fraction = soup2.find(class_='a-price-fraction').get_text(strip=True)\n",
    "    price = f'{price_symbol}{price_whole}{price_fraction}'\n",
    "\n",
    "    price = price.strip()[1:]\n",
    "    title = title.strip()\n",
    "\n",
    "    import datetime\n",
    "\n",
    "    today = datetime.date.today()\n",
    "\n",
    "    import csv\n",
    "\n",
    "    header = ['Title', 'Price', 'Date']\n",
    "    data = [title,price,today]\n",
    "\n",
    "    with open('AmazonWebScraperDataset.csv', 'a+', newline='', encoding = 'UTF8') as f:\n",
    "        writer = csv.writer(f)\n",
    "        writer.writerow(data)\n",
    "    "
   ]
  },
  {
   "cell_type": "code",
   "execution_count": 323,
   "id": "c9a33409-6e70-4188-882a-bf47a593ccaa",
   "metadata": {},
   "outputs": [
    {
     "ename": "AttributeError",
     "evalue": "'NoneType' object has no attribute 'get_text'",
     "output_type": "error",
     "traceback": [
      "\u001b[1;31m---------------------------------------------------------------------------\u001b[0m",
      "\u001b[1;31mAttributeError\u001b[0m                            Traceback (most recent call last)",
      "Cell \u001b[1;32mIn[323], line 2\u001b[0m\n\u001b[0;32m      1\u001b[0m \u001b[38;5;28;01mwhile\u001b[39;00m(\u001b[38;5;28;01mTrue\u001b[39;00m):\n\u001b[1;32m----> 2\u001b[0m     check_price()\n\u001b[0;32m      3\u001b[0m     time\u001b[38;5;241m.\u001b[39msleep(\u001b[38;5;241m5\u001b[39m)\n",
      "Cell \u001b[1;32mIn[321], line 14\u001b[0m, in \u001b[0;36mcheck_price\u001b[1;34m()\u001b[0m\n\u001b[0;32m     10\u001b[0m soup1 \u001b[38;5;241m=\u001b[39mBeautifulSoup(page\u001b[38;5;241m.\u001b[39mcontent, \u001b[38;5;124m\"\u001b[39m\u001b[38;5;124mlxml\u001b[39m\u001b[38;5;124m\"\u001b[39m)\n\u001b[0;32m     12\u001b[0m soup2 \u001b[38;5;241m=\u001b[39mBeautifulSoup(soup1\u001b[38;5;241m.\u001b[39mprettify(), \u001b[38;5;124m\"\u001b[39m\u001b[38;5;124mlxml\u001b[39m\u001b[38;5;124m\"\u001b[39m)\n\u001b[1;32m---> 14\u001b[0m title \u001b[38;5;241m=\u001b[39msoup2\u001b[38;5;241m.\u001b[39mfind(\u001b[38;5;28mid\u001b[39m\u001b[38;5;241m=\u001b[39m\u001b[38;5;124m'\u001b[39m\u001b[38;5;124mproductTitle\u001b[39m\u001b[38;5;124m'\u001b[39m)\u001b[38;5;241m.\u001b[39mget_text(strip\u001b[38;5;241m=\u001b[39m\u001b[38;5;28;01mTrue\u001b[39;00m)\n\u001b[0;32m     16\u001b[0m price_symbol \u001b[38;5;241m=\u001b[39m soup2\u001b[38;5;241m.\u001b[39mfind(class_\u001b[38;5;241m=\u001b[39m\u001b[38;5;124m'\u001b[39m\u001b[38;5;124ma-price-symbol\u001b[39m\u001b[38;5;124m'\u001b[39m)\u001b[38;5;241m.\u001b[39mget_text(strip\u001b[38;5;241m=\u001b[39m\u001b[38;5;28;01mTrue\u001b[39;00m)\n\u001b[0;32m     17\u001b[0m price_whole \u001b[38;5;241m=\u001b[39m soup2\u001b[38;5;241m.\u001b[39mfind(class_\u001b[38;5;241m=\u001b[39m\u001b[38;5;124m'\u001b[39m\u001b[38;5;124ma-price-whole\u001b[39m\u001b[38;5;124m'\u001b[39m)\u001b[38;5;241m.\u001b[39mget_text(strip\u001b[38;5;241m=\u001b[39m\u001b[38;5;28;01mTrue\u001b[39;00m)\n",
      "\u001b[1;31mAttributeError\u001b[0m: 'NoneType' object has no attribute 'get_text'"
     ]
    }
   ],
   "source": [
    "while(True):\n",
    "    check_price()\n",
    "    time.sleep(5)"
   ]
  },
  {
   "cell_type": "code",
   "execution_count": 325,
   "id": "12fb126b-8476-41eb-bf78-a25f8bd052cc",
   "metadata": {},
   "outputs": [
    {
     "name": "stdout",
     "output_type": "stream",
     "text": [
      "                                               Title  Price        Date\n",
      "0  KIWI design Comfort Head Strap Accessories Com...  29.99  2024-06-05\n"
     ]
    }
   ],
   "source": [
    "import pandas as pd\n",
    "\n",
    "df = pd.read_csv(r'C:\\Users\\Evan Blair\\AmazonWebScraperDataset.csv')\n",
    "\n",
    "print(df)"
   ]
  },
  {
   "cell_type": "code",
   "execution_count": 327,
   "id": "fcc04427-d8d3-4ac1-bb10-d3259e8d021a",
   "metadata": {},
   "outputs": [
    {
     "ename": "NameError",
     "evalue": "name 'soup' is not defined",
     "output_type": "error",
     "traceback": [
      "\u001b[1;31m---------------------------------------------------------------------------\u001b[0m",
      "\u001b[1;31mNameError\u001b[0m                                 Traceback (most recent call last)",
      "Cell \u001b[1;32mIn[327], line 1\u001b[0m\n\u001b[1;32m----> 1\u001b[0m price \u001b[38;5;241m=\u001b[39m soup\u001b[38;5;241m.\u001b[39mselect(\u001b[38;5;124m'\u001b[39m\u001b[38;5;124m#pipeline li .headline\u001b[39m\u001b[38;5;124m'\u001b[39m)\n\u001b[0;32m      2\u001b[0m \u001b[38;5;28;01mfor\u001b[39;00m headline \u001b[38;5;129;01min\u001b[39;00m headlines:\n\u001b[0;32m      3\u001b[0m     headline_text \u001b[38;5;241m=\u001b[39m headline\u001b[38;5;241m.\u001b[39mget_text(strip\u001b[38;5;241m=\u001b[39m\u001b[38;5;28;01mTrue\u001b[39;00m)\n",
      "\u001b[1;31mNameError\u001b[0m: name 'soup' is not defined"
     ]
    }
   ],
   "source": [
    "price = soup.select('#pipeline li .headline')\n",
    "for headline in headlines:\n",
    "    headline_text = headline.get_text(strip=True)\n",
    "    print(headline_text)"
   ]
  }
 ],
 "metadata": {
  "kernelspec": {
   "display_name": "Python 3 (ipykernel)",
   "language": "python",
   "name": "python3"
  },
  "language_info": {
   "codemirror_mode": {
    "name": "ipython",
    "version": 3
   },
   "file_extension": ".py",
   "mimetype": "text/x-python",
   "name": "python",
   "nbconvert_exporter": "python",
   "pygments_lexer": "ipython3",
   "version": "3.11.7"
  }
 },
 "nbformat": 4,
 "nbformat_minor": 5
}
